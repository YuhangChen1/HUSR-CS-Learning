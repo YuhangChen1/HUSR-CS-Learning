{
 "cells": [
  {
   "cell_type": "code",
   "execution_count": 4,
   "id": "6de3129f-a6f6-4f20-be31-b94ccfbc826e",
   "metadata": {},
   "outputs": [],
   "source": [
    "import torch\n",
    "from torch import nn\n",
    "from torch.nn import functional as F \n",
    "from torchinfo import summary"
   ]
  },
  {
   "cell_type": "code",
   "execution_count": 5,
   "id": "c102cab1-6b29-483c-9699-289a4bd3ae12",
   "metadata": {},
   "outputs": [],
   "source": [
    "class VGG16(nn.Module):\n",
    "    def __init__(self):\n",
    "        super().__init__()\n",
    "        self.conv1=nn.Conv2d(3,64,3,padding=1)\n",
    "        self.conv2=nn.Conv2d(64,64,3,padding=1)\n",
    "        self.pool1=nn.MaxPool2d(2)\n",
    "\n",
    "        self.conv3=nn.Conv2d(64,128,3,padding=1)\n",
    "        self.conv4=nn.Conv2d(128,128,3,padding=1)\n",
    "        self.pool2=nn.MaxPool2d(2)\n",
    "        \n",
    "        self.conv5=nn.Conv2d(128,256,3,padding=1)\n",
    "        self.conv6=nn.Conv2d(256,256,3,padding=1)\n",
    "        self.conv7=nn.Conv2d(256,256,3,padding=1)\n",
    "        self.pool3=nn.MaxPool2d(2)\n",
    "\n",
    "        self.conv8=nn.Conv2d(256,512,3,padding=1)\n",
    "        self.conv9=nn.Conv2d(512,512,3,padding=1)\n",
    "        self.conv10=nn.Conv2d(512,512,3,padding=1)\n",
    "        self.pool4=nn.MaxPool2d(2)\n",
    "\n",
    "        self.conv11=nn.Conv2d(512,512,3,padding=1)\n",
    "        self.conv12=nn.Conv2d(512,512,3,padding=1)\n",
    "        self.conv13=nn.Conv2d(512,512,3,padding=1)\n",
    "        self.pool5=nn.MaxPool2d(2)\n",
    "\n",
    "        self.lr1=nn.Linear(7*7*512,4096)\n",
    "        self.lr2=nn.Linear(4096,4096)\n",
    "        self.lr3=nn.Linear(4096,1000)\n",
    "\n",
    "    def forward(self,x):\n",
    "        x=F.relu(self.conv1(x))\n",
    "        x=self.pool1(F.relu(self.conv2(x)))\n",
    "        x=F.relu(self.conv3(x))\n",
    "        x=self.pool2(F.relu(self.conv4(x)))\n",
    "        x=F.relu(self.conv5(x))\n",
    "        x=F.relu(self.conv6(x))\n",
    "        x=self.pool3(F.relu(self.conv7(x)))\n",
    "        x=F.relu(self.conv8(x))\n",
    "        x=F.relu(self.conv9(x))\n",
    "        x=self.pool4(F.relu(self.conv10(x)))\n",
    "        x=F.relu(self.conv11(x))\n",
    "        x=F.relu(self.conv12(x))\n",
    "        x=self.pool5(F.relu(self.conv13(x)))\n",
    "        x=x.view(-1,7*7*512)\n",
    "        x=F.relu(self.lr1(F.dropout(x,p=0.5)))\n",
    "        x=F.relu(self.lr2(F.dropout(x,p=0.5)))\n",
    "        output = F.softmax(self.lr3(x),dim=1)"
   ]
  },
  {
   "cell_type": "code",
   "execution_count": 21,
   "id": "a2ade5ca-b6e0-450a-a61b-79e631e097d2",
   "metadata": {},
   "outputs": [],
   "source": [
    "vgg = VGG16()"
   ]
  },
  {
   "cell_type": "code",
   "execution_count": 22,
   "id": "65320ee4-1df2-4575-9561-41968896dacc",
   "metadata": {},
   "outputs": [
    {
     "data": {
      "text/plain": [
       "==========================================================================================\n",
       "Layer (type:depth-idx)                   Output Shape              Param #\n",
       "==========================================================================================\n",
       "VGG16                                    --                        --\n",
       "├─Conv2d: 1-1                            [20, 64, 224, 224]        1,792\n",
       "├─Conv2d: 1-2                            [20, 64, 224, 224]        36,928\n",
       "├─MaxPool2d: 1-3                         [20, 64, 112, 112]        --\n",
       "├─Conv2d: 1-4                            [20, 128, 112, 112]       73,856\n",
       "├─Conv2d: 1-5                            [20, 128, 112, 112]       147,584\n",
       "├─MaxPool2d: 1-6                         [20, 128, 56, 56]         --\n",
       "├─Conv2d: 1-7                            [20, 256, 56, 56]         295,168\n",
       "├─Conv2d: 1-8                            [20, 256, 56, 56]         590,080\n",
       "├─Conv2d: 1-9                            [20, 256, 56, 56]         590,080\n",
       "├─MaxPool2d: 1-10                        [20, 256, 28, 28]         --\n",
       "├─Conv2d: 1-11                           [20, 512, 28, 28]         1,180,160\n",
       "├─Conv2d: 1-12                           [20, 512, 28, 28]         2,359,808\n",
       "├─Conv2d: 1-13                           [20, 512, 28, 28]         2,359,808\n",
       "├─MaxPool2d: 1-14                        [20, 512, 14, 14]         --\n",
       "├─Conv2d: 1-15                           [20, 512, 14, 14]         2,359,808\n",
       "├─Conv2d: 1-16                           [20, 512, 14, 14]         2,359,808\n",
       "├─Conv2d: 1-17                           [20, 512, 14, 14]         2,359,808\n",
       "├─MaxPool2d: 1-18                        [20, 512, 7, 7]           --\n",
       "├─Linear: 1-19                           [20, 4096]                102,764,544\n",
       "├─Linear: 1-20                           [20, 4096]                16,781,312\n",
       "├─Linear: 1-21                           [20, 1000]                4,097,000\n",
       "==========================================================================================\n",
       "Total params: 138,357,544\n",
       "Trainable params: 138,357,544\n",
       "Non-trainable params: 0\n",
       "Total mult-adds (G): 309.68\n",
       "==========================================================================================\n",
       "Input size (MB): 12.04\n",
       "Forward/backward pass size (MB): 2169.07\n",
       "Params size (MB): 553.43\n",
       "Estimated Total Size (MB): 2734.55\n",
       "=========================================================================================="
      ]
     },
     "execution_count": 22,
     "metadata": {},
     "output_type": "execute_result"
    }
   ],
   "source": [
    "summary(vgg,input_size=(20,3,224,224))"
   ]
  },
  {
   "cell_type": "code",
   "execution_count": null,
   "id": "c1379216-4036-414f-a8db-b084aa31075d",
   "metadata": {},
   "outputs": [],
   "source": []
  }
 ],
 "metadata": {
  "kernelspec": {
   "display_name": "googlenet",
   "language": "python",
   "name": "googlenet"
  },
  "language_info": {
   "codemirror_mode": {
    "name": "ipython",
    "version": 3
   },
   "file_extension": ".py",
   "mimetype": "text/x-python",
   "name": "python",
   "nbconvert_exporter": "python",
   "pygments_lexer": "ipython3",
   "version": "3.9.20"
  }
 },
 "nbformat": 4,
 "nbformat_minor": 5
}
