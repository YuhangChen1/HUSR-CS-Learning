{
 "cells": [
  {
   "cell_type": "code",
   "execution_count": 10,
   "id": "d3a8c458-beb3-4612-a84a-22422c2f0d95",
   "metadata": {},
   "outputs": [],
   "source": [
    "import torch"
   ]
  },
  {
   "cell_type": "code",
   "execution_count": 11,
   "id": "72938b0a-e19f-40e4-a909-5f24ca1d4c21",
   "metadata": {},
   "outputs": [],
   "source": [
    "from torch import nn"
   ]
  },
  {
   "cell_type": "code",
   "execution_count": 12,
   "id": "c5d721b4-407d-4447-810d-2a925cdc9d61",
   "metadata": {},
   "outputs": [],
   "source": [
    "from torchinfo import summary"
   ]
  },
  {
   "cell_type": "code",
   "execution_count": 23,
   "id": "68e2dee1-6bfb-45dc-b79f-5f6a6973e300",
   "metadata": {},
   "outputs": [],
   "source": [
    "class BasicConv2d(nn.Module):\n",
    "\n",
    "    def __init__(self, in_channels, out_channels, **kwargs):\n",
    "        super().__init__()\n",
    "        self.conv = nn.Sequential(nn.Conv2d(in_channels, out_channels, bias=False, **kwargs)\n",
    "                                  ,nn.BatchNorm2d(out_channels)\n",
    "                                  ,nn.ReLU(inplace=True))\n",
    "        \n",
    "\n",
    "    def forward(self, x):\n",
    "        x = self.conv(x)\n",
    "        return x"
   ]
  },
  {
   "cell_type": "code",
   "execution_count": 25,
   "id": "abe30bf4-6638-458d-bf40-03930f48aa4a",
   "metadata": {},
   "outputs": [
    {
     "data": {
      "text/plain": [
       "BasicConv2d(\n",
       "  (conv): Sequential(\n",
       "    (0): Conv2d(3, 5, kernel_size=(3, 3), stride=(1, 1), bias=False)\n",
       "    (1): BatchNorm2d(5, eps=1e-05, momentum=0.1, affine=True, track_running_stats=True)\n",
       "    (2): ReLU(inplace=True)\n",
       "  )\n",
       ")"
      ]
     },
     "execution_count": 25,
     "metadata": {},
     "output_type": "execute_result"
    }
   ],
   "source": [
    "BasicConv2d(3,5,kernel_size=3)# kernel_size是卷积层内核数 填入了一次kernel_size会代入**Kwargs，后面调用就不用了必填了"
   ]
  },
  {
   "cell_type": "code",
   "execution_count": 15,
   "id": "c85668d4-cf9a-4ad1-abe9-cc8dc95cfdeb",
   "metadata": {},
   "outputs": [],
   "source": [
    "# 所有的bias都是false，所有的层都没有偏差。可能有一些可选的超参数，用**kwargs代替，比如"
   ]
  },
  {
   "cell_type": "code",
   "execution_count": 258,
   "id": "91da82da-9276-4042-a656-4a0d3295a72e",
   "metadata": {},
   "outputs": [],
   "source": [
    "class Inception(nn.Module):\n",
    "\n",
    "    def __init__(self,in_channels, ch1x1, ch3x3red, ch3x3, ch5x5red, ch5x5, pool_proj,\n",
    "                ):\n",
    "        super().__init__()\n",
    "        self.branch1 = BasicConv2d(in_channels, ch1x1, kernel_size=1)\n",
    "\n",
    "        self.branch2 = nn.Sequential(\n",
    "            BasicConv2d(in_channels, ch3x3red, kernel_size=1),\n",
    "            BasicConv2d(ch3x3red, ch3x3, kernel_size=3, padding=1)\n",
    "        )\n",
    "\n",
    "        self.branch3 = nn.Sequential(\n",
    "            BasicConv2d(in_channels, ch5x5red, kernel_size=1),\n",
    "            # Here, kernel_size=3 instead of kernel_size=5 is a known bug.\n",
    "            # Please see https://github.com/pytorch/vision/issues/906 for details.\n",
    "            BasicConv2d(ch5x5red, ch5x5, kernel_size=5, padding=2)\n",
    "        )\n",
    "\n",
    "        self.branch4 = nn.Sequential(\n",
    "            nn.MaxPool2d(kernel_size=3, stride=1, padding=1),\n",
    "            BasicConv2d(in_channels, pool_proj, kernel_size=1)\n",
    "        )\n",
    "\n",
    "    def forward(self, x):\n",
    "        branch1 = self.branch1(x)\n",
    "        branch2 = self.branch2(x)\n",
    "        branch3 = self.branch3(x)\n",
    "        branch4 = self.branch4(x)\n",
    "\n",
    "        outputs = [branch1, branch2, branch3, branch4]\n",
    "        return torch.cat(outputs, 1)\n"
   ]
  },
  {
   "cell_type": "code",
   "execution_count": 260,
   "id": "136f9332-9b54-492d-84ad-045d8b12270a",
   "metadata": {},
   "outputs": [],
   "source": [
    "inception3a = Inception(192,64,96,128,16,32,32)"
   ]
  },
  {
   "cell_type": "code",
   "execution_count": 262,
   "id": "85cc7af8-0054-481a-86ea-a2e28ed8b84e",
   "metadata": {},
   "outputs": [],
   "source": [
    "data = torch.ones(30,192,28,28)"
   ]
  },
  {
   "cell_type": "code",
   "execution_count": 264,
   "id": "ad9f8978-8ec9-4c32-920b-63f893f2a4f5",
   "metadata": {},
   "outputs": [
    {
     "data": {
      "text/plain": [
       "torch.Size([30, 256, 28, 28])"
      ]
     },
     "execution_count": 264,
     "metadata": {},
     "output_type": "execute_result"
    }
   ],
   "source": [
    "inception3a(data).shape"
   ]
  },
  {
   "cell_type": "code",
   "execution_count": 270,
   "id": "c471fd7f-1e9b-4139-a413-60bf64533629",
   "metadata": {},
   "outputs": [],
   "source": [
    "class AuxClf(nn.Module):\n",
    "    def __init__(self\n",
    "                 ,in_channels\n",
    "                 ,num_classes\n",
    "                 ,**Kwargs):\n",
    "        super().__init__()\n",
    "        self.feature_=nn.Sequential(nn.AvgPool2d(kernel_size=5,stride=3)\n",
    "                                    ,BasicConv2d(in_channels,128,kernel_size=1))\n",
    "        self.clf_=nn.Sequential(nn.Linear(4*4*128,1024)\n",
    "                                ,nn.ReLU(inplace=True)\n",
    "                                ,nn.Dropout(0.7)\n",
    "                                ,nn.Linear(1024,num_classes))\n",
    "    def forward(self,x):\n",
    "            x=self.feature_(x)\n",
    "            x=x.view(-1,4*4*128)\n",
    "            x=self.clf_(x)\n",
    "            return x"
   ]
  },
  {
   "cell_type": "code",
   "execution_count": 272,
   "id": "5e173426-495e-4af9-b670-6b9a5dc800b9",
   "metadata": {},
   "outputs": [],
   "source": [
    "# 4a"
   ]
  },
  {
   "cell_type": "code",
   "execution_count": 274,
   "id": "0e02bfae-53a3-4415-8112-bcf3bd0ac8fb",
   "metadata": {},
   "outputs": [
    {
     "data": {
      "text/plain": [
       "AuxClf(\n",
       "  (feature_): Sequential(\n",
       "    (0): AvgPool2d(kernel_size=5, stride=3, padding=0)\n",
       "    (1): BasicConv2d(\n",
       "      (conv): Sequential(\n",
       "        (0): Conv2d(512, 128, kernel_size=(1, 1), stride=(1, 1), bias=False)\n",
       "        (1): BatchNorm2d(128, eps=1e-05, momentum=0.1, affine=True, track_running_stats=True)\n",
       "        (2): ReLU(inplace=True)\n",
       "      )\n",
       "    )\n",
       "  )\n",
       "  (clf_): Sequential(\n",
       "    (0): Linear(in_features=2048, out_features=1024, bias=True)\n",
       "    (1): ReLU(inplace=True)\n",
       "    (2): Dropout(p=0.7, inplace=False)\n",
       "    (3): Linear(in_features=1024, out_features=1000, bias=True)\n",
       "  )\n",
       ")"
      ]
     },
     "execution_count": 274,
     "metadata": {},
     "output_type": "execute_result"
    }
   ],
   "source": [
    "AuxClf(512,1000)"
   ]
  },
  {
   "cell_type": "code",
   "execution_count": 276,
   "id": "19e9b712-7294-4a80-8393-31a114819097",
   "metadata": {},
   "outputs": [],
   "source": [
    "class GoogLeNet(nn.Module):\n",
    "     def __init__(self,num_classes=1000):\n",
    "        super().__init__()\n",
    "        self.conv1 = BasicConv2d(3, 64, kernel_size=7, stride=2, padding=3)\n",
    "        self.maxpool1 = nn.MaxPool2d(kernel_size=3, stride=2, ceil_mode=True)\n",
    "        self.conv2 = BasicConv2d(64, 64, kernel_size=1)\n",
    "        self.conv3 = BasicConv2d(64, 192, kernel_size=3, padding=1)\n",
    "        self.maxpool2 = nn.MaxPool2d(kernel_size=3, stride=2, ceil_mode=True)\n",
    "\n",
    "        self.inception3a = Inception(192, 64, 96, 128, 16, 32, 32)\n",
    "        self.inception3b = Inception(256, 128, 128, 192, 32, 96, 64)\n",
    "        self.maxpool3 = nn.MaxPool2d(3, stride=2, ceil_mode=True)\n",
    "\n",
    "        self.inception4a = Inception(480, 192, 96, 208, 16, 48, 64)\n",
    "        self.inception4b = Inception(512, 160, 112, 224, 24, 64, 64)\n",
    "        self.inception4c = Inception(512, 128, 128, 256, 24, 64, 64)\n",
    "        self.inception4d = Inception(512, 112, 144, 288, 32, 64, 64)\n",
    "        self.inception4e = Inception(528, 256, 160, 320, 32, 128, 128)\n",
    "        self.maxpool4 = nn.MaxPool2d(kernel_size=3, stride=2, ceil_mode=True)\n",
    "\n",
    "        self.inception5a = Inception(832, 256, 160, 320, 32, 128, 128)\n",
    "        self.inception5b = Inception(832, 384, 192, 384, 48, 128, 128)\n",
    "       \n",
    "\n",
    "        self.avgpool = nn.AdaptiveAvgPool2d((1, 1))\n",
    "        self.dropout = nn.Dropout(0.4)\n",
    "        self.fc = nn.Linear(1024, num_classes)\n",
    "\n",
    "        self.aux1 = AuxClf(512, num_classes)\n",
    "        self.aux2 = AuxClf(528, num_classes)\n",
    "         \n",
    "     def forward(self,x):\n",
    "        # type: (Tensor) -> Tuple[Tensor, Optional[Tensor], Optional[Tensor]]\n",
    "        # N x 3 x 224 x 224\n",
    "        # x = self.conv1(x)\n",
    "        # N x 64 x 112 x 112\n",
    "        x = self.maxpool1(self.conv1(x))\n",
    "        \n",
    "        # N x 64 x 56 x 56\n",
    "        # x = self.conv2(x)\n",
    "        # N x 64 x 56 x 56\n",
    "        x = self.maxpool2(self.conv3(self.conv2(x)))\n",
    "        # N x 192 x 56 x 56\n",
    "        # x = self.maxpool2(x)\n",
    "\n",
    "        # N x 192 x 28 x 28\n",
    "        x = self.inception3a(x)\n",
    "        \n",
    "        # N x 256 x 28 x 28\n",
    "        # x = self.inception3b(x)\n",
    "        # N x 480 x 28 x 28\n",
    "        x = self.maxpool3(self.inception3b(x))\n",
    "\n",
    "        \n",
    "        # N x 480 x 14 x 14\n",
    "        x = self.inception4a(x)\n",
    "        # N x 512 x 14 x 14\n",
    "        \n",
    "        aux_1 = self.aux1(x)\n",
    "\n",
    "        x = self.inception4b(x)\n",
    "        # N x 512 x 14 x 14\n",
    "        x = self.inception4c(x)\n",
    "        # N x 512 x 14 x 14\n",
    "        x = self.inception4d(x)\n",
    "        # N x 528 x 14 x 14\n",
    "\n",
    "        \n",
    "        aux_2 = self.aux2(x)\n",
    "\n",
    "       \n",
    "        # N x 832 x 14 x 14\n",
    "        x = self.maxpool4(self.inception4e(x))\n",
    "        \n",
    "        # N x 832 x 7 x 7\n",
    "        x = self.inception5a(x)\n",
    "        # N x 832 x 7 x 7\n",
    "        x = self.inception5b(x)\n",
    "        # N x 1024 x 7 x 7\n",
    "\n",
    "        x = self.avgpool(x)\n",
    "        # N x 1024 x 1 x 1\n",
    "        x = torch.flatten(x, 1)\n",
    "        # N x 1024\n",
    "        x = self.dropout(x)\n",
    "        x = self.fc(x)\n",
    "        # N x 1000 (num_classes)\n",
    "        \n",
    "        return x, aux_1, aux_2\n"
   ]
  },
  {
   "cell_type": "code",
   "execution_count": 278,
   "id": "93753912-eb72-48c7-95e8-247151ec83cd",
   "metadata": {},
   "outputs": [],
   "source": [
    "data = torch.ones(20,3,224,224)"
   ]
  },
  {
   "cell_type": "code",
   "execution_count": 280,
   "id": "fe89d604-6a44-40fd-9d4e-a399e040d076",
   "metadata": {},
   "outputs": [],
   "source": [
    "net = GoogLeNet()"
   ]
  },
  {
   "cell_type": "code",
   "execution_count": 282,
   "id": "6414c16e-8ddf-405f-959a-c9cc54faedfa",
   "metadata": {},
   "outputs": [],
   "source": [
    "x,aux1,aux2 = net(data)"
   ]
  },
  {
   "cell_type": "code",
   "execution_count": 283,
   "id": "629d59ea-f56e-463a-b3a5-5ede4ca14430",
   "metadata": {},
   "outputs": [
    {
     "name": "stdout",
     "output_type": "stream",
     "text": [
      "torch.Size([20, 1000])\n",
      "torch.Size([20, 1000])\n",
      "torch.Size([20, 1000])\n"
     ]
    }
   ],
   "source": [
    "for i in [x,aux1,aux2]:\n",
    "    print(i.shape)"
   ]
  },
  {
   "cell_type": "code",
   "execution_count": 287,
   "id": "c4358b79-e0fe-485e-bad5-f0d30adf22dd",
   "metadata": {},
   "outputs": [
    {
     "data": {
      "text/plain": [
       "===============================================================================================\n",
       "Layer (type:depth-idx)                        Output Shape              Param #\n",
       "===============================================================================================\n",
       "GoogLeNet                                     [20, 1000]                --\n",
       "├─BasicConv2d: 1-1                            [20, 64, 112, 112]        --\n",
       "│    └─Sequential: 2-1                        [20, 64, 112, 112]        --\n",
       "│    │    └─Conv2d: 3-1                       [20, 64, 112, 112]        9,408\n",
       "│    │    └─BatchNorm2d: 3-2                  [20, 64, 112, 112]        128\n",
       "│    │    └─ReLU: 3-3                         [20, 64, 112, 112]        --\n",
       "├─MaxPool2d: 1-2                              [20, 64, 56, 56]          --\n",
       "├─BasicConv2d: 1-3                            [20, 64, 56, 56]          --\n",
       "│    └─Sequential: 2-2                        [20, 64, 56, 56]          --\n",
       "│    │    └─Conv2d: 3-4                       [20, 64, 56, 56]          4,096\n",
       "│    │    └─BatchNorm2d: 3-5                  [20, 64, 56, 56]          128\n",
       "│    │    └─ReLU: 3-6                         [20, 64, 56, 56]          --\n",
       "├─BasicConv2d: 1-4                            [20, 192, 56, 56]         --\n",
       "│    └─Sequential: 2-3                        [20, 192, 56, 56]         --\n",
       "│    │    └─Conv2d: 3-7                       [20, 192, 56, 56]         110,592\n",
       "│    │    └─BatchNorm2d: 3-8                  [20, 192, 56, 56]         384\n",
       "│    │    └─ReLU: 3-9                         [20, 192, 56, 56]         --\n",
       "├─MaxPool2d: 1-5                              [20, 192, 28, 28]         --\n",
       "├─Inception: 1-6                              [20, 256, 28, 28]         --\n",
       "│    └─BasicConv2d: 2-4                       [20, 64, 28, 28]          --\n",
       "│    │    └─Sequential: 3-10                  [20, 64, 28, 28]          12,416\n",
       "│    └─Sequential: 2-5                        [20, 128, 28, 28]         --\n",
       "│    │    └─BasicConv2d: 3-11                 [20, 96, 28, 28]          18,624\n",
       "│    │    └─BasicConv2d: 3-12                 [20, 128, 28, 28]         110,848\n",
       "│    └─Sequential: 2-6                        [20, 32, 28, 28]          --\n",
       "│    │    └─BasicConv2d: 3-13                 [20, 16, 28, 28]          3,104\n",
       "│    │    └─BasicConv2d: 3-14                 [20, 32, 28, 28]          12,864\n",
       "│    └─Sequential: 2-7                        [20, 32, 28, 28]          --\n",
       "│    │    └─MaxPool2d: 3-15                   [20, 192, 28, 28]         --\n",
       "│    │    └─BasicConv2d: 3-16                 [20, 32, 28, 28]          6,208\n",
       "├─Inception: 1-7                              [20, 480, 28, 28]         --\n",
       "│    └─BasicConv2d: 2-8                       [20, 128, 28, 28]         --\n",
       "│    │    └─Sequential: 3-17                  [20, 128, 28, 28]         33,024\n",
       "│    └─Sequential: 2-9                        [20, 192, 28, 28]         --\n",
       "│    │    └─BasicConv2d: 3-18                 [20, 128, 28, 28]         33,024\n",
       "│    │    └─BasicConv2d: 3-19                 [20, 192, 28, 28]         221,568\n",
       "│    └─Sequential: 2-10                       [20, 96, 28, 28]          --\n",
       "│    │    └─BasicConv2d: 3-20                 [20, 32, 28, 28]          8,256\n",
       "│    │    └─BasicConv2d: 3-21                 [20, 96, 28, 28]          76,992\n",
       "│    └─Sequential: 2-11                       [20, 64, 28, 28]          --\n",
       "│    │    └─MaxPool2d: 3-22                   [20, 256, 28, 28]         --\n",
       "│    │    └─BasicConv2d: 3-23                 [20, 64, 28, 28]          16,512\n",
       "├─MaxPool2d: 1-8                              [20, 480, 14, 14]         --\n",
       "├─Inception: 1-9                              [20, 512, 14, 14]         --\n",
       "│    └─BasicConv2d: 2-12                      [20, 192, 14, 14]         --\n",
       "│    │    └─Sequential: 3-24                  [20, 192, 14, 14]         92,544\n",
       "│    └─Sequential: 2-13                       [20, 208, 14, 14]         --\n",
       "│    │    └─BasicConv2d: 3-25                 [20, 96, 14, 14]          46,272\n",
       "│    │    └─BasicConv2d: 3-26                 [20, 208, 14, 14]         180,128\n",
       "│    └─Sequential: 2-14                       [20, 48, 14, 14]          --\n",
       "│    │    └─BasicConv2d: 3-27                 [20, 16, 14, 14]          7,712\n",
       "│    │    └─BasicConv2d: 3-28                 [20, 48, 14, 14]          19,296\n",
       "│    └─Sequential: 2-15                       [20, 64, 14, 14]          --\n",
       "│    │    └─MaxPool2d: 3-29                   [20, 480, 14, 14]         --\n",
       "│    │    └─BasicConv2d: 3-30                 [20, 64, 14, 14]          30,848\n",
       "├─AuxClf: 1-10                                [20, 1000]                --\n",
       "│    └─Sequential: 2-16                       [20, 128, 4, 4]           --\n",
       "│    │    └─AvgPool2d: 3-31                   [20, 512, 4, 4]           --\n",
       "│    │    └─BasicConv2d: 3-32                 [20, 128, 4, 4]           65,792\n",
       "│    └─Sequential: 2-17                       [20, 1000]                --\n",
       "│    │    └─Linear: 3-33                      [20, 1024]                2,098,176\n",
       "│    │    └─ReLU: 3-34                        [20, 1024]                --\n",
       "│    │    └─Dropout: 3-35                     [20, 1024]                --\n",
       "│    │    └─Linear: 3-36                      [20, 1000]                1,025,000\n",
       "├─Inception: 1-11                             [20, 512, 14, 14]         --\n",
       "│    └─BasicConv2d: 2-18                      [20, 160, 14, 14]         --\n",
       "│    │    └─Sequential: 3-37                  [20, 160, 14, 14]         82,240\n",
       "│    └─Sequential: 2-19                       [20, 224, 14, 14]         --\n",
       "│    │    └─BasicConv2d: 3-38                 [20, 112, 14, 14]         57,568\n",
       "│    │    └─BasicConv2d: 3-39                 [20, 224, 14, 14]         226,240\n",
       "│    └─Sequential: 2-20                       [20, 64, 14, 14]          --\n",
       "│    │    └─BasicConv2d: 3-40                 [20, 24, 14, 14]          12,336\n",
       "│    │    └─BasicConv2d: 3-41                 [20, 64, 14, 14]          38,528\n",
       "│    └─Sequential: 2-21                       [20, 64, 14, 14]          --\n",
       "│    │    └─MaxPool2d: 3-42                   [20, 512, 14, 14]         --\n",
       "│    │    └─BasicConv2d: 3-43                 [20, 64, 14, 14]          32,896\n",
       "├─Inception: 1-12                             [20, 512, 14, 14]         --\n",
       "│    └─BasicConv2d: 2-22                      [20, 128, 14, 14]         --\n",
       "│    │    └─Sequential: 3-44                  [20, 128, 14, 14]         65,792\n",
       "│    └─Sequential: 2-23                       [20, 256, 14, 14]         --\n",
       "│    │    └─BasicConv2d: 3-45                 [20, 128, 14, 14]         65,792\n",
       "│    │    └─BasicConv2d: 3-46                 [20, 256, 14, 14]         295,424\n",
       "│    └─Sequential: 2-24                       [20, 64, 14, 14]          --\n",
       "│    │    └─BasicConv2d: 3-47                 [20, 24, 14, 14]          12,336\n",
       "│    │    └─BasicConv2d: 3-48                 [20, 64, 14, 14]          38,528\n",
       "│    └─Sequential: 2-25                       [20, 64, 14, 14]          --\n",
       "│    │    └─MaxPool2d: 3-49                   [20, 512, 14, 14]         --\n",
       "│    │    └─BasicConv2d: 3-50                 [20, 64, 14, 14]          32,896\n",
       "├─Inception: 1-13                             [20, 528, 14, 14]         --\n",
       "│    └─BasicConv2d: 2-26                      [20, 112, 14, 14]         --\n",
       "│    │    └─Sequential: 3-51                  [20, 112, 14, 14]         57,568\n",
       "│    └─Sequential: 2-27                       [20, 288, 14, 14]         --\n",
       "│    │    └─BasicConv2d: 3-52                 [20, 144, 14, 14]         74,016\n",
       "│    │    └─BasicConv2d: 3-53                 [20, 288, 14, 14]         373,824\n",
       "│    └─Sequential: 2-28                       [20, 64, 14, 14]          --\n",
       "│    │    └─BasicConv2d: 3-54                 [20, 32, 14, 14]          16,448\n",
       "│    │    └─BasicConv2d: 3-55                 [20, 64, 14, 14]          51,328\n",
       "│    └─Sequential: 2-29                       [20, 64, 14, 14]          --\n",
       "│    │    └─MaxPool2d: 3-56                   [20, 512, 14, 14]         --\n",
       "│    │    └─BasicConv2d: 3-57                 [20, 64, 14, 14]          32,896\n",
       "├─AuxClf: 1-14                                [20, 1000]                --\n",
       "│    └─Sequential: 2-30                       [20, 128, 4, 4]           --\n",
       "│    │    └─AvgPool2d: 3-58                   [20, 528, 4, 4]           --\n",
       "│    │    └─BasicConv2d: 3-59                 [20, 128, 4, 4]           67,840\n",
       "│    └─Sequential: 2-31                       [20, 1000]                --\n",
       "│    │    └─Linear: 3-60                      [20, 1024]                2,098,176\n",
       "│    │    └─ReLU: 3-61                        [20, 1024]                --\n",
       "│    │    └─Dropout: 3-62                     [20, 1024]                --\n",
       "│    │    └─Linear: 3-63                      [20, 1000]                1,025,000\n",
       "├─Inception: 1-15                             [20, 832, 14, 14]         --\n",
       "│    └─BasicConv2d: 2-32                      [20, 256, 14, 14]         --\n",
       "│    │    └─Sequential: 3-64                  [20, 256, 14, 14]         135,680\n",
       "│    └─Sequential: 2-33                       [20, 320, 14, 14]         --\n",
       "│    │    └─BasicConv2d: 3-65                 [20, 160, 14, 14]         84,800\n",
       "│    │    └─BasicConv2d: 3-66                 [20, 320, 14, 14]         461,440\n",
       "│    └─Sequential: 2-34                       [20, 128, 14, 14]         --\n",
       "│    │    └─BasicConv2d: 3-67                 [20, 32, 14, 14]          16,960\n",
       "│    │    └─BasicConv2d: 3-68                 [20, 128, 14, 14]         102,656\n",
       "│    └─Sequential: 2-35                       [20, 128, 14, 14]         --\n",
       "│    │    └─MaxPool2d: 3-69                   [20, 528, 14, 14]         --\n",
       "│    │    └─BasicConv2d: 3-70                 [20, 128, 14, 14]         67,840\n",
       "├─MaxPool2d: 1-16                             [20, 832, 7, 7]           --\n",
       "├─Inception: 1-17                             [20, 832, 7, 7]           --\n",
       "│    └─BasicConv2d: 2-36                      [20, 256, 7, 7]           --\n",
       "│    │    └─Sequential: 3-71                  [20, 256, 7, 7]           213,504\n",
       "│    └─Sequential: 2-37                       [20, 320, 7, 7]           --\n",
       "│    │    └─BasicConv2d: 3-72                 [20, 160, 7, 7]           133,440\n",
       "│    │    └─BasicConv2d: 3-73                 [20, 320, 7, 7]           461,440\n",
       "│    └─Sequential: 2-38                       [20, 128, 7, 7]           --\n",
       "│    │    └─BasicConv2d: 3-74                 [20, 32, 7, 7]            26,688\n",
       "│    │    └─BasicConv2d: 3-75                 [20, 128, 7, 7]           102,656\n",
       "│    └─Sequential: 2-39                       [20, 128, 7, 7]           --\n",
       "│    │    └─MaxPool2d: 3-76                   [20, 832, 7, 7]           --\n",
       "│    │    └─BasicConv2d: 3-77                 [20, 128, 7, 7]           106,752\n",
       "├─Inception: 1-18                             [20, 1024, 7, 7]          --\n",
       "│    └─BasicConv2d: 2-40                      [20, 384, 7, 7]           --\n",
       "│    │    └─Sequential: 3-78                  [20, 384, 7, 7]           320,256\n",
       "│    └─Sequential: 2-41                       [20, 384, 7, 7]           --\n",
       "│    │    └─BasicConv2d: 3-79                 [20, 192, 7, 7]           160,128\n",
       "│    │    └─BasicConv2d: 3-80                 [20, 384, 7, 7]           664,320\n",
       "│    └─Sequential: 2-42                       [20, 128, 7, 7]           --\n",
       "│    │    └─BasicConv2d: 3-81                 [20, 48, 7, 7]            40,032\n",
       "│    │    └─BasicConv2d: 3-82                 [20, 128, 7, 7]           153,856\n",
       "│    └─Sequential: 2-43                       [20, 128, 7, 7]           --\n",
       "│    │    └─MaxPool2d: 3-83                   [20, 832, 7, 7]           --\n",
       "│    │    └─BasicConv2d: 3-84                 [20, 128, 7, 7]           106,752\n",
       "├─AdaptiveAvgPool2d: 1-19                     [20, 1024, 1, 1]          --\n",
       "├─Dropout: 1-20                               [20, 1024]                --\n",
       "├─Linear: 1-21                                [20, 1000]                1,025,000\n",
       "===============================================================================================\n",
       "Total params: 13,385,816\n",
       "Trainable params: 13,385,816\n",
       "Non-trainable params: 0\n",
       "Total mult-adds (G): 31.82\n",
       "===============================================================================================\n",
       "Input size (MB): 12.04\n",
       "Forward/backward pass size (MB): 1034.49\n",
       "Params size (MB): 53.54\n",
       "Estimated Total Size (MB): 1100.08\n",
       "==============================================================================================="
      ]
     },
     "execution_count": 287,
     "metadata": {},
     "output_type": "execute_result"
    }
   ],
   "source": [
    "summary(net,(20,3,224,224),device=\"cpu\")"
   ]
  },
  {
   "cell_type": "code",
   "execution_count": null,
   "id": "4c620fa4-f499-4884-be56-c007049718d8",
   "metadata": {},
   "outputs": [],
   "source": []
  },
  {
   "cell_type": "code",
   "execution_count": null,
   "id": "223463d4-60eb-43ea-b626-d6eab5f10e81",
   "metadata": {},
   "outputs": [],
   "source": []
  },
  {
   "cell_type": "code",
   "execution_count": null,
   "id": "965b863e-a0d2-4f69-8f6b-5ff76c2cf956",
   "metadata": {},
   "outputs": [],
   "source": []
  }
 ],
 "metadata": {
  "kernelspec": {
   "display_name": "googlenet",
   "language": "python",
   "name": "googlenet"
  },
  "language_info": {
   "codemirror_mode": {
    "name": "ipython",
    "version": 3
   },
   "file_extension": ".py",
   "mimetype": "text/x-python",
   "name": "python",
   "nbconvert_exporter": "python",
   "pygments_lexer": "ipython3",
   "version": "3.9.20"
  }
 },
 "nbformat": 4,
 "nbformat_minor": 5
}
